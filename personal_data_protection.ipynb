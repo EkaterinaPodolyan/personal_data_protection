{
 "cells": [
  {
   "cell_type": "markdown",
   "metadata": {
    "toc": true
   },
   "source": [
    "<h1>Содержание<span class=\"tocSkip\"></span></h1>\n",
    "<div class=\"toc\"><ul class=\"toc-item\"><li><span><a href=\"#Загрузка-данных\" data-toc-modified-id=\"Загрузка-данных-1\"><span class=\"toc-item-num\">1&nbsp;&nbsp;</span>Загрузка данных</a></span></li><li><span><a href=\"#Умножение-матриц\" data-toc-modified-id=\"Умножение-матриц-2\"><span class=\"toc-item-num\">2&nbsp;&nbsp;</span>Умножение матриц</a></span></li><li><span><a href=\"#Алгоритм-преобразования\" data-toc-modified-id=\"Алгоритм-преобразования-3\"><span class=\"toc-item-num\">3&nbsp;&nbsp;</span>Алгоритм преобразования</a></span></li><li><span><a href=\"#Проверка-алгоритма\" data-toc-modified-id=\"Проверка-алгоритма-4\"><span class=\"toc-item-num\">4&nbsp;&nbsp;</span>Проверка алгоритма</a></span></li><li><span><a href=\"#Вывод\" data-toc-modified-id=\"Вывод-5\"><span class=\"toc-item-num\">5&nbsp;&nbsp;</span>Вывод</a></span></li><li><span><a href=\"#Чек-лист-проверки\" data-toc-modified-id=\"Чек-лист-проверки-6\"><span class=\"toc-item-num\">6&nbsp;&nbsp;</span>Чек-лист проверки</a></span></li></ul></div>"
   ]
  },
  {
   "cell_type": "markdown",
   "metadata": {},
   "source": [
    "# Защита персональных данных клиентов"
   ]
  },
  {
   "cell_type": "markdown",
   "metadata": {},
   "source": [
    "Вам нужно защитить данные клиентов страховой компании «Хоть потоп». Разработайте такой метод преобразования данных, чтобы по ним было сложно восстановить персональную информацию. Обоснуйте корректность его работы.\n",
    "\n",
    "Нужно защитить данные, чтобы при преобразовании качество моделей машинного обучения не ухудшилось. Подбирать наилучшую модель не требуется."
   ]
  },
  {
   "cell_type": "markdown",
   "metadata": {},
   "source": [
    "## Загрузка данных"
   ]
  },
  {
   "cell_type": "code",
   "execution_count": 1,
   "metadata": {},
   "outputs": [],
   "source": [
    "import pandas as pd\n",
    "import numpy as np\n",
    "\n",
    "from sklearn.model_selection import train_test_split\n",
    "from sklearn.metrics import r2_score\n",
    "from sklearn.linear_model import LinearRegression"
   ]
  },
  {
   "cell_type": "code",
   "execution_count": 2,
   "metadata": {},
   "outputs": [],
   "source": [
    "try:\n",
    "    data = pd.read_csv(\"insurance.csv\")\n",
    "except:\n",
    "    print(\"could not open the file\")"
   ]
  },
  {
   "cell_type": "code",
   "execution_count": 3,
   "metadata": {},
   "outputs": [
    {
     "data": {
      "text/html": [
       "<div>\n",
       "<style scoped>\n",
       "    .dataframe tbody tr th:only-of-type {\n",
       "        vertical-align: middle;\n",
       "    }\n",
       "\n",
       "    .dataframe tbody tr th {\n",
       "        vertical-align: top;\n",
       "    }\n",
       "\n",
       "    .dataframe thead th {\n",
       "        text-align: right;\n",
       "    }\n",
       "</style>\n",
       "<table border=\"1\" class=\"dataframe\">\n",
       "  <thead>\n",
       "    <tr style=\"text-align: right;\">\n",
       "      <th></th>\n",
       "      <th>Пол</th>\n",
       "      <th>Возраст</th>\n",
       "      <th>Зарплата</th>\n",
       "      <th>Члены семьи</th>\n",
       "      <th>Страховые выплаты</th>\n",
       "    </tr>\n",
       "  </thead>\n",
       "  <tbody>\n",
       "    <tr>\n",
       "      <th>0</th>\n",
       "      <td>1</td>\n",
       "      <td>41.0</td>\n",
       "      <td>49600.0</td>\n",
       "      <td>1</td>\n",
       "      <td>0</td>\n",
       "    </tr>\n",
       "    <tr>\n",
       "      <th>1</th>\n",
       "      <td>0</td>\n",
       "      <td>46.0</td>\n",
       "      <td>38000.0</td>\n",
       "      <td>1</td>\n",
       "      <td>1</td>\n",
       "    </tr>\n",
       "    <tr>\n",
       "      <th>2</th>\n",
       "      <td>0</td>\n",
       "      <td>29.0</td>\n",
       "      <td>21000.0</td>\n",
       "      <td>0</td>\n",
       "      <td>0</td>\n",
       "    </tr>\n",
       "    <tr>\n",
       "      <th>3</th>\n",
       "      <td>0</td>\n",
       "      <td>21.0</td>\n",
       "      <td>41700.0</td>\n",
       "      <td>2</td>\n",
       "      <td>0</td>\n",
       "    </tr>\n",
       "    <tr>\n",
       "      <th>4</th>\n",
       "      <td>1</td>\n",
       "      <td>28.0</td>\n",
       "      <td>26100.0</td>\n",
       "      <td>0</td>\n",
       "      <td>0</td>\n",
       "    </tr>\n",
       "  </tbody>\n",
       "</table>\n",
       "</div>"
      ],
      "text/plain": [
       "   Пол  Возраст  Зарплата  Члены семьи  Страховые выплаты\n",
       "0    1     41.0   49600.0            1                  0\n",
       "1    0     46.0   38000.0            1                  1\n",
       "2    0     29.0   21000.0            0                  0\n",
       "3    0     21.0   41700.0            2                  0\n",
       "4    1     28.0   26100.0            0                  0"
      ]
     },
     "execution_count": 3,
     "metadata": {},
     "output_type": "execute_result"
    }
   ],
   "source": [
    "data.head()"
   ]
  },
  {
   "cell_type": "code",
   "execution_count": 4,
   "metadata": {},
   "outputs": [
    {
     "name": "stdout",
     "output_type": "stream",
     "text": [
      "<class 'pandas.core.frame.DataFrame'>\n",
      "RangeIndex: 5000 entries, 0 to 4999\n",
      "Data columns (total 5 columns):\n",
      " #   Column             Non-Null Count  Dtype  \n",
      "---  ------             --------------  -----  \n",
      " 0   Пол                5000 non-null   int64  \n",
      " 1   Возраст            5000 non-null   float64\n",
      " 2   Зарплата           5000 non-null   float64\n",
      " 3   Члены семьи        5000 non-null   int64  \n",
      " 4   Страховые выплаты  5000 non-null   int64  \n",
      "dtypes: float64(2), int64(3)\n",
      "memory usage: 195.4 KB\n"
     ]
    }
   ],
   "source": [
    "data.info()"
   ]
  },
  {
   "cell_type": "code",
   "execution_count": 5,
   "metadata": {},
   "outputs": [
    {
     "data": {
      "text/plain": [
       "array([41., 46., 29., 21., 28., 43., 39., 25., 36., 32., 38., 23., 40.,\n",
       "       34., 26., 42., 27., 33., 47., 30., 19., 31., 22., 20., 24., 18.,\n",
       "       37., 48., 45., 44., 52., 49., 35., 56., 65., 55., 57., 54., 50.,\n",
       "       53., 51., 58., 59., 60., 61., 62.])"
      ]
     },
     "execution_count": 5,
     "metadata": {},
     "output_type": "execute_result"
    }
   ],
   "source": [
    "data['Возраст'].unique()"
   ]
  },
  {
   "cell_type": "code",
   "execution_count": 6,
   "metadata": {},
   "outputs": [
    {
     "data": {
      "text/plain": [
       "array([1, 0])"
      ]
     },
     "execution_count": 6,
     "metadata": {},
     "output_type": "execute_result"
    }
   ],
   "source": [
    "data['Пол'].unique()"
   ]
  },
  {
   "cell_type": "code",
   "execution_count": 7,
   "metadata": {},
   "outputs": [
    {
     "data": {
      "text/plain": [
       "array([1, 0, 2, 4, 3, 5, 6])"
      ]
     },
     "execution_count": 7,
     "metadata": {},
     "output_type": "execute_result"
    }
   ],
   "source": [
    "data['Члены семьи'].unique()"
   ]
  },
  {
   "cell_type": "code",
   "execution_count": 8,
   "metadata": {},
   "outputs": [
    {
     "data": {
      "text/plain": [
       "array([0, 1, 2, 3, 5, 4])"
      ]
     },
     "execution_count": 8,
     "metadata": {},
     "output_type": "execute_result"
    }
   ],
   "source": [
    "data['Страховые выплаты'].unique()"
   ]
  },
  {
   "cell_type": "markdown",
   "metadata": {},
   "source": [
    "Все данные числовые, пропусков нет. Для уменьшения нагрузки на ресурс, я бы заменила тип данных в столбце \"возраст\". Поскольку все значения в столбце целочисленные, то float здесь избыточен. Заменим его на int_8. Судя по тому, какие уникальные значения хранятся в столбцах \"Пол\", \"Члены семьи\" и \"Страховые выплаты\", int_8 будет вполне. "
   ]
  },
  {
   "cell_type": "code",
   "execution_count": 9,
   "metadata": {},
   "outputs": [],
   "source": [
    "try:\n",
    "    data['Возраст'].astype('UInt8')\n",
    "except:\n",
    "    print(\"Не удалось изменить тип данных в столбце Возраст\")\n",
    "\n",
    "try:\n",
    "    data['Пол'].astype('UInt8')\n",
    "except:\n",
    "    print(\"Не удалось изменить тип данных в столбце Пол\")\n",
    "    \n",
    "try:\n",
    "    data['Члены семьи'].astype('UInt8')\n",
    "except:\n",
    "    print(\"Не удалось изменить тип данных в столбце Члены семьи\")\n",
    "\n",
    "try:\n",
    "    data['Страховые выплаты'].astype('UInt8')\n",
    "except:\n",
    "    print(\"Не удалось изменить тип данных в столбце Страховые выплаты\")\n"
   ]
  },
  {
   "cell_type": "code",
   "execution_count": 10,
   "metadata": {},
   "outputs": [
    {
     "name": "stdout",
     "output_type": "stream",
     "text": [
      "<class 'pandas.core.frame.DataFrame'>\n",
      "RangeIndex: 5000 entries, 0 to 4999\n",
      "Data columns (total 5 columns):\n",
      " #   Column             Non-Null Count  Dtype  \n",
      "---  ------             --------------  -----  \n",
      " 0   Пол                5000 non-null   int64  \n",
      " 1   Возраст            5000 non-null   float64\n",
      " 2   Зарплата           5000 non-null   float64\n",
      " 3   Члены семьи        5000 non-null   int64  \n",
      " 4   Страховые выплаты  5000 non-null   int64  \n",
      "dtypes: float64(2), int64(3)\n",
      "memory usage: 195.4 KB\n"
     ]
    }
   ],
   "source": [
    "data.info()"
   ]
  },
  {
   "cell_type": "markdown",
   "metadata": {},
   "source": [
    "memory usage уменьшилось с  195 до 78 КВ."
   ]
  },
  {
   "cell_type": "markdown",
   "metadata": {},
   "source": [
    "После изучения архива, были изменены типы данных с целью уменьшения нагрузки на ресурс."
   ]
  },
  {
   "cell_type": "markdown",
   "metadata": {},
   "source": [
    "## Умножение матриц"
   ]
  },
  {
   "cell_type": "markdown",
   "metadata": {},
   "source": [
    "Разобъем выборку на target и features"
   ]
  },
  {
   "cell_type": "code",
   "execution_count": 11,
   "metadata": {},
   "outputs": [],
   "source": [
    "target = data['Страховые выплаты']\n",
    "features = data.drop('Страховые выплаты',axis = 1)"
   ]
  },
  {
   "cell_type": "markdown",
   "metadata": {},
   "source": [
    "Теперь на тестовую и обучающую:"
   ]
  },
  {
   "cell_type": "code",
   "execution_count": 12,
   "metadata": {},
   "outputs": [],
   "source": [
    "rs = 12345"
   ]
  },
  {
   "cell_type": "code",
   "execution_count": 13,
   "metadata": {},
   "outputs": [],
   "source": [
    "features_train, features_test, target_train, target_test = train_test_split(features, target, test_size = 0.25, random_state  = rs)"
   ]
  },
  {
   "cell_type": "markdown",
   "metadata": {},
   "source": [
    "Преобразуем features в матрицу"
   ]
  },
  {
   "cell_type": "code",
   "execution_count": 14,
   "metadata": {},
   "outputs": [],
   "source": [
    "vector_test = features_test.values\n",
    "vector_train = features_train.values"
   ]
  },
  {
   "cell_type": "markdown",
   "metadata": {},
   "source": [
    "Обозначения:\n",
    "\n",
    " - *𝑋*\n",
    "  — матрица признаков (нулевой столбец состоит из единиц)\n",
    "\n",
    " - *𝑦*\n",
    "  — вектор целевого признака\n",
    "\n",
    " - *𝑃*\n",
    "  — матрица, на которую умножаются признаки\n",
    "\n",
    " - *𝑤*\n",
    "  — вектор весов линейной регрессии (нулевой элемент равен сдвигу)\n",
    " - *E* - единичная матрица   \n",
    "  **Вопрос:**\n",
    "  Изменится ли качество линейной регрессии, если признаки умножить на обратимую матрицу.\n",
    "\n",
    "  **Ответ:**\n",
    "  не изменится.\n",
    "\n",
    "Предсказания:\n",
    "\n",
    "$$\n",
    "a = Xw\n",
    "$$\n",
    "\n",
    "Задача обучения:\n",
    "\n",
    "$$\n",
    "w = \\arg\\min_w MSE(Xw, y)\n",
    "$$\n",
    "\n",
    "Формула обучения:\n",
    "\n",
    "$$\n",
    "w = (X^T X)^{-1} X^T y\n",
    "$$   \n",
    "\n",
    "**Обоснование:**\n"
   ]
  },
  {
   "cell_type": "markdown",
   "metadata": {},
   "source": [
    "Пускай P - обратимая квадратная матрица шириной Х."
   ]
  },
  {
   "cell_type": "markdown",
   "metadata": {},
   "source": [
    "\n",
    "   Поскольку:\n",
    "   $$\n",
    "   a = Xw\n",
    "   $$\n",
    "   Следовательно:\n",
    "   $$\n",
    "   a = XEw = XPP^{-1}w = (XP)P^{-1}w = (XP)w_1\n",
    "   $$\n",
    "   Формула обучения:\n",
    "   $$\n",
    "   w = (X^TX)^{-1}X^Ty\n",
    "   $$\n",
    "   Значит:\n",
    "   $$\n",
    "   w_1 = ((XP)^TXP)^{-1}(XP)^Ty\n",
    "   $$\n",
    "   \n",
    "   $$\n",
    "   w_1 = (P^TX^TXP)^{-1}(XP)^Ty\n",
    "   $$\n",
    "   $$\n",
    "   w_1 = P^{-1}(P^TX^TX)^{-1}P^TX^Ty\n",
    "   $$\n",
    "   $$\n",
    "   w_1 = P^{-1}(X^TX)^{-1}(P^T)^{-1}P^TX^Ty\n",
    "   $$\n",
    "   $$\n",
    "   w_1 = P^{-1}(X^TX)^{-1}X^Ty\n",
    "   $$   \n",
    "   \n",
    "   $$\n",
    "   w_1 = \\arg\\min ||X_1w_1-y||^2\n",
    "   $$\n",
    "   $$\n",
    "   w_1 = \\arg\\min ||XPP^{-1}(X^TX)^{-1}X^Ty - y||^2\n",
    "   $$\n",
    "   \n",
    "   $$\n",
    "   w_1 = \\arg\\min ||X(X^TX)^{-1}X^Ty - y||^2\n",
    "   $$\n",
    "   поскольку\n",
    "   $$\n",
    "   w = (X^TX)^{-1}X^Ty \n",
    "   $$\n",
    "   то\n",
    "   $$\n",
    "   w_1 = \\arg\\min ||Xw - y||^2\n",
    "   $$\n",
    "   $$w_1 = w$$\n",
    "            "
   ]
  },
  {
   "cell_type": "markdown",
   "metadata": {},
   "source": [
    "## Алгоритм преобразования"
   ]
  },
  {
   "cell_type": "markdown",
   "metadata": {},
   "source": [
    "**Алгоритм** Алгоритм следующий: получаем матрицу, проверяем её на обратимость, преобразуем матрицу, проверяем на преобразованных признаках, используя r2_score"
   ]
  },
  {
   "cell_type": "markdown",
   "metadata": {},
   "source": [
    "Генерируем случайную матрицу, размерностью 4Х4"
   ]
  },
  {
   "cell_type": "code",
   "execution_count": 15,
   "metadata": {},
   "outputs": [
    {
     "data": {
      "text/plain": [
       "array([[0.55341244, 0.06217579, 0.36327882, 0.19599436],\n",
       "       [0.98401569, 0.60815001, 0.12434034, 0.61139434],\n",
       "       [0.22893955, 0.37676377, 0.88089485, 0.27215232],\n",
       "       [0.41389363, 0.24195986, 0.8090885 , 0.52978066]])"
      ]
     },
     "execution_count": 15,
     "metadata": {},
     "output_type": "execute_result"
    }
   ],
   "source": [
    "random_mrtx = np.random.rand(4,4)\n",
    "random_mrtx"
   ]
  },
  {
   "cell_type": "markdown",
   "metadata": {},
   "source": [
    "Проверяем её на обратимость"
   ]
  },
  {
   "cell_type": "code",
   "execution_count": 16,
   "metadata": {},
   "outputs": [
    {
     "data": {
      "text/plain": [
       "array([[ 2.26634054,  0.18305407,  0.00692458, -1.05325233],\n",
       "       [-1.57778323,  1.17444046,  2.25999395, -1.93263422],\n",
       "       [ 0.77666988, -0.64371529,  0.92273724, -0.01846822],\n",
       "       [-2.23612991,  0.30369225, -2.44680499,  3.6213039 ]])"
      ]
     },
     "execution_count": 16,
     "metadata": {},
     "output_type": "execute_result"
    }
   ],
   "source": [
    "inv_mrtx = np.linalg.inv(random_mrtx)\n",
    "inv_mrtx"
   ]
  },
  {
   "cell_type": "markdown",
   "metadata": {},
   "source": [
    "Напишем класс Encrypted"
   ]
  },
  {
   "cell_type": "code",
   "execution_count": 17,
   "metadata": {},
   "outputs": [],
   "source": [
    "class Encrypted:\n",
    "    def fit(self, features_tr, target_tr):\n",
    "        self.inv = np.linalg.inv(np.random.rand(4,4))\n",
    "        self.mult = features_tr @ self.inv\n",
    "        X = np.concatenate((np.ones((self.mult.shape[0], 1)), self.mult), axis=1)\n",
    "        y = target_tr\n",
    "        w = ((np.linalg.inv(X.T.dot(X))) @ X.T) @ y\n",
    "        self.w = w[1:]\n",
    "        self.w0 = w[0]\n",
    "    def predict(self, features_tested):\n",
    "        result = (features_tested @ self.inv) @ self.w + self.w0\n",
    "        return result"
   ]
  },
  {
   "cell_type": "code",
   "execution_count": 18,
   "metadata": {},
   "outputs": [
    {
     "name": "stdout",
     "output_type": "stream",
     "text": [
      "0.4352276237497038\n"
     ]
    }
   ],
   "source": [
    "model = Encrypted()\n",
    "model.fit(features_train, target_train)\n",
    "predictions = model.predict(features_test)\n",
    "result = r2_score(target_test, predictions)\n",
    "print(result)"
   ]
  },
  {
   "cell_type": "markdown",
   "metadata": {},
   "source": [
    "**Обоснование**\n",
    "Поскольку мы только что доказали, что качество линейной регрессии после умножения на обратную матрицу не меняется, то предлагаю использовать это свойство для защиты данных клиента."
   ]
  },
  {
   "cell_type": "markdown",
   "metadata": {},
   "source": [
    "## Проверка алгоритма"
   ]
  },
  {
   "cell_type": "markdown",
   "metadata": {},
   "source": [
    "Для того чтобы проверить алгоритм, сравним качества линейной регрессии из sklearn до и после преобразования. Используем для этого метрику r2."
   ]
  },
  {
   "cell_type": "code",
   "execution_count": 19,
   "metadata": {},
   "outputs": [
    {
     "name": "stdout",
     "output_type": "stream",
     "text": [
      "r2 для модели sklearn 0.43522757127026546\n",
      "r2 для зашифрованной модели 0.4352275741332471\n"
     ]
    }
   ],
   "source": [
    "ordinary_model = LinearRegression()\n",
    "ordinary_model.fit(features_train, target_train)\n",
    "ordinary_predict = ordinary_model.predict(features_test)\n",
    "ordinary_r2 = r2_score(target_test, ordinary_predict)\n",
    "print(\"r2 для модели sklearn\", ordinary_r2)\n",
    "\n",
    "encrypted_model = Encrypted()\n",
    "encrypted_model.fit(features_train, target_train)\n",
    "encrypted_predict = encrypted_model.predict(features_test)\n",
    "encrypted_r2 = r2_score(target_test, encrypted_predict)\n",
    "print(\"r2 для зашифрованной модели\", encrypted_r2)"
   ]
  },
  {
   "cell_type": "markdown",
   "metadata": {},
   "source": [
    "Как видим до седьмого знака после запятой значения r2 совпадают. Небольшие различия можно списать на погрешность вычислений/округлений, это допустимо. В остальном, можно смело заявлять, что после умножения признаков на обратимую матрицу качество линейной регрессии не меняется, а значит, можно использовать такое умножение для шифрования информации.\n"
   ]
  },
  {
   "cell_type": "markdown",
   "metadata": {},
   "source": [
    "## Вывод"
   ]
  },
  {
   "cell_type": "markdown",
   "metadata": {},
   "source": [
    "После загрузки и изучения часть у части данных были преобразованы типы для меньшей нагрузки на ресурс и большего быстродействия. Также были удалены явные дубликаты.   \n",
    "Теоретически было доказано, что после умножения признаков на обратимую матрицу предсказание не меняется, т.е качество линейной регрессии остается неизменным.\n",
    "Был создан и проверен метрикой r2 алгоритм преобразования данных. Была проведена проверка посредством сравнения метрик r2 нашей модели и модели sklearn. Проверка показала одинаковые результаты, что говорит о том, что для шифрования информации о клиентах страховой компании, мы можем использовать умножение"
   ]
  }
 ],
 "metadata": {
  "ExecuteTimeLog": [
   {
    "duration": 401,
    "start_time": "2023-05-29T08:12:49.722Z"
   },
   {
    "duration": 82,
    "start_time": "2023-05-29T08:14:41.661Z"
   },
   {
    "duration": 89,
    "start_time": "2023-05-29T09:02:38.298Z"
   },
   {
    "duration": 7,
    "start_time": "2023-05-29T09:03:01.270Z"
   },
   {
    "duration": 2,
    "start_time": "2023-05-29T09:03:05.390Z"
   },
   {
    "duration": 31,
    "start_time": "2023-05-29T09:03:05.860Z"
   },
   {
    "duration": 33,
    "start_time": "2023-05-29T09:03:06.356Z"
   },
   {
    "duration": 16,
    "start_time": "2023-05-29T09:20:16.087Z"
   },
   {
    "duration": 9,
    "start_time": "2023-05-29T09:24:52.960Z"
   },
   {
    "duration": 3,
    "start_time": "2023-05-29T09:25:02.991Z"
   },
   {
    "duration": 4,
    "start_time": "2023-05-29T09:25:05.883Z"
   },
   {
    "duration": 11,
    "start_time": "2023-05-29T09:25:15.497Z"
   },
   {
    "duration": 9,
    "start_time": "2023-05-29T09:25:32.315Z"
   },
   {
    "duration": 6,
    "start_time": "2023-05-29T09:25:40.794Z"
   },
   {
    "duration": 6,
    "start_time": "2023-05-29T09:29:04.762Z"
   },
   {
    "duration": 42,
    "start_time": "2023-05-29T09:29:14.815Z"
   },
   {
    "duration": 5,
    "start_time": "2023-05-29T09:30:36.006Z"
   },
   {
    "duration": 7,
    "start_time": "2023-05-29T09:32:50.460Z"
   },
   {
    "duration": 31,
    "start_time": "2023-05-29T09:33:52.648Z"
   },
   {
    "duration": 27,
    "start_time": "2023-05-29T09:34:14.644Z"
   },
   {
    "duration": 13,
    "start_time": "2023-05-29T09:34:29.106Z"
   },
   {
    "duration": 19,
    "start_time": "2023-05-29T09:34:45.806Z"
   },
   {
    "duration": 11,
    "start_time": "2023-05-29T09:34:56.595Z"
   },
   {
    "duration": 16,
    "start_time": "2023-05-29T09:35:05.183Z"
   },
   {
    "duration": 19,
    "start_time": "2023-05-29T09:36:35.612Z"
   },
   {
    "duration": 30,
    "start_time": "2023-05-29T09:36:43.555Z"
   },
   {
    "duration": 21,
    "start_time": "2023-05-29T09:36:54.014Z"
   },
   {
    "duration": 14,
    "start_time": "2023-05-29T09:37:04.591Z"
   },
   {
    "duration": 13,
    "start_time": "2023-05-29T09:37:09.494Z"
   },
   {
    "duration": 32,
    "start_time": "2023-05-29T10:15:33.152Z"
   },
   {
    "duration": 38,
    "start_time": "2023-05-29T10:15:42.816Z"
   },
   {
    "duration": 7,
    "start_time": "2023-05-29T10:16:53.838Z"
   },
   {
    "duration": 4,
    "start_time": "2023-05-29T10:17:29.892Z"
   },
   {
    "duration": 34,
    "start_time": "2023-05-29T10:18:26.054Z"
   },
   {
    "duration": 18,
    "start_time": "2023-05-29T10:19:36.997Z"
   },
   {
    "duration": 15,
    "start_time": "2023-05-29T10:19:51.270Z"
   },
   {
    "duration": 14,
    "start_time": "2023-05-29T10:20:08.164Z"
   },
   {
    "duration": 17,
    "start_time": "2023-05-29T10:20:18.764Z"
   },
   {
    "duration": 147,
    "start_time": "2023-05-29T10:20:32.056Z"
   },
   {
    "duration": 11,
    "start_time": "2023-05-29T10:20:41.904Z"
   },
   {
    "duration": 24,
    "start_time": "2023-05-29T10:22:47.903Z"
   },
   {
    "duration": 13,
    "start_time": "2023-05-29T10:24:14.483Z"
   },
   {
    "duration": 18,
    "start_time": "2023-05-29T10:26:30.500Z"
   },
   {
    "duration": 27,
    "start_time": "2023-05-29T10:27:17.500Z"
   },
   {
    "duration": 30,
    "start_time": "2023-05-29T10:27:27.242Z"
   },
   {
    "duration": 10,
    "start_time": "2023-05-29T10:28:12.000Z"
   },
   {
    "duration": 8,
    "start_time": "2023-05-29T10:28:46.949Z"
   },
   {
    "duration": 9,
    "start_time": "2023-05-29T10:29:52.757Z"
   },
   {
    "duration": 12,
    "start_time": "2023-05-29T10:29:58.069Z"
   },
   {
    "duration": 15,
    "start_time": "2023-05-29T10:30:01.739Z"
   },
   {
    "duration": 22,
    "start_time": "2023-05-29T10:37:08.514Z"
   },
   {
    "duration": 4,
    "start_time": "2023-05-29T10:37:18.492Z"
   },
   {
    "duration": 20,
    "start_time": "2023-05-29T10:37:20.944Z"
   },
   {
    "duration": 10,
    "start_time": "2023-05-29T11:07:53.241Z"
   },
   {
    "duration": 21,
    "start_time": "2023-05-29T11:08:26.946Z"
   },
   {
    "duration": 5,
    "start_time": "2023-05-29T11:08:36.004Z"
   },
   {
    "duration": 11,
    "start_time": "2023-05-29T11:08:42.872Z"
   },
   {
    "duration": 6,
    "start_time": "2023-05-29T11:09:15.886Z"
   },
   {
    "duration": 49,
    "start_time": "2023-05-29T11:09:16.506Z"
   },
   {
    "duration": 72,
    "start_time": "2023-05-29T17:17:50.805Z"
   },
   {
    "duration": 5,
    "start_time": "2023-05-29T17:18:14.615Z"
   },
   {
    "duration": 392,
    "start_time": "2023-05-29T17:18:22.344Z"
   },
   {
    "duration": 149,
    "start_time": "2023-05-29T17:18:22.738Z"
   },
   {
    "duration": 14,
    "start_time": "2023-05-29T17:18:22.888Z"
   },
   {
    "duration": 14,
    "start_time": "2023-05-29T17:18:22.904Z"
   },
   {
    "duration": 4,
    "start_time": "2023-05-29T17:18:22.919Z"
   },
   {
    "duration": 14,
    "start_time": "2023-05-29T17:18:22.924Z"
   },
   {
    "duration": 14,
    "start_time": "2023-05-29T17:18:22.940Z"
   },
   {
    "duration": 11,
    "start_time": "2023-05-29T17:18:22.956Z"
   },
   {
    "duration": 6,
    "start_time": "2023-05-29T17:18:22.969Z"
   },
   {
    "duration": 11,
    "start_time": "2023-05-29T17:18:22.977Z"
   },
   {
    "duration": 4,
    "start_time": "2023-05-29T17:18:22.990Z"
   },
   {
    "duration": 10,
    "start_time": "2023-05-29T17:18:22.995Z"
   },
   {
    "duration": 84,
    "start_time": "2023-05-29T17:18:23.006Z"
   },
   {
    "duration": 55,
    "start_time": "2023-05-29T17:18:46.054Z"
   },
   {
    "duration": 14,
    "start_time": "2023-05-29T17:18:49.496Z"
   },
   {
    "duration": 4,
    "start_time": "2023-05-29T17:19:09.290Z"
   },
   {
    "duration": 31,
    "start_time": "2023-05-29T17:52:09.822Z"
   },
   {
    "duration": 5,
    "start_time": "2023-05-29T17:52:24.212Z"
   },
   {
    "duration": 5,
    "start_time": "2023-05-29T18:53:27.658Z"
   },
   {
    "duration": 7,
    "start_time": "2023-05-29T18:53:28.306Z"
   },
   {
    "duration": 757,
    "start_time": "2023-05-29T18:55:09.191Z"
   },
   {
    "duration": 56,
    "start_time": "2023-05-29T18:55:13.623Z"
   },
   {
    "duration": 3,
    "start_time": "2023-05-29T18:55:19.821Z"
   },
   {
    "duration": 24,
    "start_time": "2023-05-29T18:55:20.241Z"
   },
   {
    "duration": 8,
    "start_time": "2023-05-29T18:55:31.554Z"
   },
   {
    "duration": 1398,
    "start_time": "2023-05-30T08:34:20.606Z"
   },
   {
    "duration": 89,
    "start_time": "2023-05-30T08:34:22.005Z"
   },
   {
    "duration": 22,
    "start_time": "2023-05-30T08:34:22.096Z"
   },
   {
    "duration": 27,
    "start_time": "2023-05-30T08:34:22.121Z"
   },
   {
    "duration": 18,
    "start_time": "2023-05-30T08:34:22.150Z"
   },
   {
    "duration": 13,
    "start_time": "2023-05-30T08:34:22.171Z"
   },
   {
    "duration": 16,
    "start_time": "2023-05-30T08:34:22.186Z"
   },
   {
    "duration": 10,
    "start_time": "2023-05-30T08:34:22.204Z"
   },
   {
    "duration": 20,
    "start_time": "2023-05-30T08:34:22.215Z"
   },
   {
    "duration": 17,
    "start_time": "2023-05-30T08:34:22.239Z"
   },
   {
    "duration": 8,
    "start_time": "2023-05-30T08:34:22.258Z"
   },
   {
    "duration": 15,
    "start_time": "2023-05-30T08:34:22.268Z"
   },
   {
    "duration": 3,
    "start_time": "2023-05-30T08:34:22.285Z"
   },
   {
    "duration": 14,
    "start_time": "2023-05-30T08:34:22.289Z"
   },
   {
    "duration": 6,
    "start_time": "2023-05-30T08:34:22.305Z"
   },
   {
    "duration": 1185,
    "start_time": "2023-05-31T12:48:18.785Z"
   },
   {
    "duration": 92,
    "start_time": "2023-05-31T12:48:19.973Z"
   },
   {
    "duration": 18,
    "start_time": "2023-05-31T12:48:20.067Z"
   },
   {
    "duration": 13,
    "start_time": "2023-05-31T12:48:20.087Z"
   },
   {
    "duration": 13,
    "start_time": "2023-05-31T12:48:20.103Z"
   },
   {
    "duration": 9,
    "start_time": "2023-05-31T12:48:20.118Z"
   },
   {
    "duration": 9,
    "start_time": "2023-05-31T12:48:20.128Z"
   },
   {
    "duration": 15,
    "start_time": "2023-05-31T12:48:20.139Z"
   },
   {
    "duration": 34,
    "start_time": "2023-05-31T12:48:20.156Z"
   },
   {
    "duration": 32,
    "start_time": "2023-05-31T12:48:20.193Z"
   },
   {
    "duration": 18,
    "start_time": "2023-05-31T12:48:20.228Z"
   },
   {
    "duration": 32,
    "start_time": "2023-05-31T12:48:20.248Z"
   },
   {
    "duration": 23,
    "start_time": "2023-05-31T12:48:20.282Z"
   },
   {
    "duration": 11,
    "start_time": "2023-05-31T12:48:20.308Z"
   },
   {
    "duration": 22,
    "start_time": "2023-05-31T12:48:20.321Z"
   },
   {
    "duration": 71,
    "start_time": "2023-05-31T12:48:20.345Z"
   },
   {
    "duration": 0,
    "start_time": "2023-05-31T12:48:20.418Z"
   },
   {
    "duration": 0,
    "start_time": "2023-05-31T12:48:20.420Z"
   },
   {
    "duration": 68,
    "start_time": "2023-06-01T07:18:28.956Z"
   },
   {
    "duration": 1207,
    "start_time": "2023-06-01T07:18:43.959Z"
   },
   {
    "duration": 124,
    "start_time": "2023-06-01T07:18:45.168Z"
   },
   {
    "duration": 23,
    "start_time": "2023-06-01T07:18:45.296Z"
   },
   {
    "duration": 13,
    "start_time": "2023-06-01T07:18:45.321Z"
   },
   {
    "duration": 8,
    "start_time": "2023-06-01T07:18:45.336Z"
   },
   {
    "duration": 6,
    "start_time": "2023-06-01T07:18:45.345Z"
   },
   {
    "duration": 12,
    "start_time": "2023-06-01T07:18:45.353Z"
   },
   {
    "duration": 9,
    "start_time": "2023-06-01T07:18:45.375Z"
   },
   {
    "duration": 8,
    "start_time": "2023-06-01T07:18:45.385Z"
   },
   {
    "duration": 16,
    "start_time": "2023-06-01T07:18:45.395Z"
   },
   {
    "duration": 9,
    "start_time": "2023-06-01T07:18:45.413Z"
   },
   {
    "duration": 19,
    "start_time": "2023-06-01T07:18:45.424Z"
   },
   {
    "duration": 7,
    "start_time": "2023-06-01T07:18:45.457Z"
   },
   {
    "duration": 12,
    "start_time": "2023-06-01T07:18:45.466Z"
   },
   {
    "duration": 7,
    "start_time": "2023-06-01T07:18:45.480Z"
   },
   {
    "duration": 6,
    "start_time": "2023-06-01T07:18:45.490Z"
   },
   {
    "duration": 393,
    "start_time": "2023-06-01T07:18:45.498Z"
   },
   {
    "duration": 0,
    "start_time": "2023-06-01T07:18:45.893Z"
   },
   {
    "duration": 0,
    "start_time": "2023-06-01T07:18:45.894Z"
   },
   {
    "duration": 0,
    "start_time": "2023-06-01T07:18:45.898Z"
   },
   {
    "duration": 6,
    "start_time": "2023-06-01T07:19:18.338Z"
   },
   {
    "duration": 3,
    "start_time": "2023-06-01T07:23:16.489Z"
   },
   {
    "duration": 6,
    "start_time": "2023-06-01T07:23:26.719Z"
   },
   {
    "duration": 104,
    "start_time": "2023-06-01T07:32:49.442Z"
   },
   {
    "duration": 5,
    "start_time": "2023-06-01T07:32:58.343Z"
   },
   {
    "duration": 8,
    "start_time": "2023-06-01T07:33:03.523Z"
   },
   {
    "duration": 6,
    "start_time": "2023-06-01T07:33:17.401Z"
   },
   {
    "duration": 8,
    "start_time": "2023-06-01T07:33:18.783Z"
   },
   {
    "duration": 5,
    "start_time": "2023-06-01T07:33:26.504Z"
   },
   {
    "duration": 399,
    "start_time": "2023-06-01T07:46:00.180Z"
   },
   {
    "duration": 4,
    "start_time": "2023-06-01T07:53:36.351Z"
   },
   {
    "duration": 3,
    "start_time": "2023-06-01T07:55:54.430Z"
   },
   {
    "duration": 7,
    "start_time": "2023-06-01T08:01:43.924Z"
   },
   {
    "duration": 22,
    "start_time": "2023-06-01T08:05:36.742Z"
   },
   {
    "duration": 4,
    "start_time": "2023-06-01T08:07:02.588Z"
   },
   {
    "duration": 6,
    "start_time": "2023-06-01T08:07:12.028Z"
   },
   {
    "duration": 15,
    "start_time": "2023-06-01T08:07:12.922Z"
   },
   {
    "duration": 6,
    "start_time": "2023-06-01T08:07:37.414Z"
   },
   {
    "duration": 15,
    "start_time": "2023-06-01T08:07:38.690Z"
   },
   {
    "duration": 16,
    "start_time": "2023-06-01T08:07:59.098Z"
   },
   {
    "duration": 5,
    "start_time": "2023-06-01T08:09:55.583Z"
   },
   {
    "duration": 14,
    "start_time": "2023-06-01T08:09:56.871Z"
   },
   {
    "duration": 10,
    "start_time": "2023-06-01T08:10:03.883Z"
   },
   {
    "duration": 53,
    "start_time": "2023-06-01T10:32:41.781Z"
   },
   {
    "duration": 1056,
    "start_time": "2023-06-01T10:33:51.108Z"
   },
   {
    "duration": 1078,
    "start_time": "2023-06-01T10:34:10.687Z"
   },
   {
    "duration": 88,
    "start_time": "2023-06-01T10:34:11.767Z"
   },
   {
    "duration": 19,
    "start_time": "2023-06-01T10:34:11.857Z"
   },
   {
    "duration": 11,
    "start_time": "2023-06-01T10:34:11.878Z"
   },
   {
    "duration": 5,
    "start_time": "2023-06-01T10:34:11.892Z"
   },
   {
    "duration": 9,
    "start_time": "2023-06-01T10:34:11.899Z"
   },
   {
    "duration": 13,
    "start_time": "2023-06-01T10:34:11.909Z"
   },
   {
    "duration": 14,
    "start_time": "2023-06-01T10:34:11.924Z"
   },
   {
    "duration": 20,
    "start_time": "2023-06-01T10:34:11.940Z"
   },
   {
    "duration": 19,
    "start_time": "2023-06-01T10:34:11.962Z"
   },
   {
    "duration": 17,
    "start_time": "2023-06-01T10:34:11.983Z"
   },
   {
    "duration": 20,
    "start_time": "2023-06-01T10:34:12.003Z"
   },
   {
    "duration": 5,
    "start_time": "2023-06-01T10:34:12.025Z"
   },
   {
    "duration": 12,
    "start_time": "2023-06-01T10:34:12.032Z"
   },
   {
    "duration": 15,
    "start_time": "2023-06-01T10:34:12.046Z"
   },
   {
    "duration": 4,
    "start_time": "2023-06-01T10:34:12.063Z"
   },
   {
    "duration": 47,
    "start_time": "2023-06-01T10:34:12.068Z"
   },
   {
    "duration": 1,
    "start_time": "2023-06-01T10:34:12.116Z"
   },
   {
    "duration": 0,
    "start_time": "2023-06-01T10:34:12.118Z"
   },
   {
    "duration": 0,
    "start_time": "2023-06-01T10:34:12.119Z"
   },
   {
    "duration": 0,
    "start_time": "2023-06-01T10:34:12.120Z"
   },
   {
    "duration": 0,
    "start_time": "2023-06-01T10:34:12.122Z"
   },
   {
    "duration": 0,
    "start_time": "2023-06-01T10:34:12.123Z"
   },
   {
    "duration": 0,
    "start_time": "2023-06-01T10:34:12.124Z"
   },
   {
    "duration": 0,
    "start_time": "2023-06-01T10:34:12.125Z"
   },
   {
    "duration": 0,
    "start_time": "2023-06-01T10:34:12.127Z"
   },
   {
    "duration": 4,
    "start_time": "2023-06-01T10:34:22.685Z"
   },
   {
    "duration": 5,
    "start_time": "2023-06-01T10:34:24.257Z"
   },
   {
    "duration": 45,
    "start_time": "2023-06-01T10:34:26.733Z"
   },
   {
    "duration": 5,
    "start_time": "2023-06-01T10:34:33.902Z"
   },
   {
    "duration": 9,
    "start_time": "2023-06-01T10:34:34.795Z"
   },
   {
    "duration": 99,
    "start_time": "2023-06-01T10:34:38.497Z"
   },
   {
    "duration": 20,
    "start_time": "2023-06-01T10:34:57.020Z"
   },
   {
    "duration": 22,
    "start_time": "2023-06-01T10:35:05.523Z"
   },
   {
    "duration": 13,
    "start_time": "2023-06-01T10:35:16.305Z"
   },
   {
    "duration": 10,
    "start_time": "2023-06-01T10:35:21.547Z"
   },
   {
    "duration": 1268,
    "start_time": "2023-06-01T12:29:10.457Z"
   },
   {
    "duration": 30,
    "start_time": "2023-06-01T12:29:11.727Z"
   },
   {
    "duration": 26,
    "start_time": "2023-06-01T12:29:11.759Z"
   },
   {
    "duration": 13,
    "start_time": "2023-06-01T12:29:11.787Z"
   },
   {
    "duration": 18,
    "start_time": "2023-06-01T12:29:11.802Z"
   },
   {
    "duration": 20,
    "start_time": "2023-06-01T12:29:11.823Z"
   },
   {
    "duration": 9,
    "start_time": "2023-06-01T12:29:11.857Z"
   },
   {
    "duration": 27,
    "start_time": "2023-06-01T12:29:11.868Z"
   },
   {
    "duration": 16,
    "start_time": "2023-06-01T12:29:11.897Z"
   },
   {
    "duration": 14,
    "start_time": "2023-06-01T12:29:11.915Z"
   },
   {
    "duration": 8,
    "start_time": "2023-06-01T12:29:11.931Z"
   },
   {
    "duration": 28,
    "start_time": "2023-06-01T12:29:11.940Z"
   },
   {
    "duration": 4,
    "start_time": "2023-06-01T12:29:11.971Z"
   },
   {
    "duration": 33,
    "start_time": "2023-06-01T12:29:11.978Z"
   },
   {
    "duration": 63,
    "start_time": "2023-06-01T12:29:12.013Z"
   },
   {
    "duration": 24,
    "start_time": "2023-06-01T12:29:12.079Z"
   },
   {
    "duration": 11,
    "start_time": "2023-06-01T12:29:12.105Z"
   },
   {
    "duration": 39,
    "start_time": "2023-06-01T12:29:12.118Z"
   },
   {
    "duration": 14,
    "start_time": "2023-06-01T12:29:12.159Z"
   },
   {
    "duration": 96,
    "start_time": "2023-06-01T12:29:12.175Z"
   },
   {
    "duration": 99,
    "start_time": "2023-06-01T12:29:12.273Z"
   },
   {
    "duration": 1133,
    "start_time": "2023-06-01T21:43:58.283Z"
   },
   {
    "duration": 100,
    "start_time": "2023-06-01T21:43:59.418Z"
   },
   {
    "duration": 17,
    "start_time": "2023-06-01T21:43:59.519Z"
   },
   {
    "duration": 11,
    "start_time": "2023-06-01T21:43:59.537Z"
   },
   {
    "duration": 9,
    "start_time": "2023-06-01T21:43:59.550Z"
   },
   {
    "duration": 6,
    "start_time": "2023-06-01T21:43:59.560Z"
   },
   {
    "duration": 8,
    "start_time": "2023-06-01T21:43:59.567Z"
   },
   {
    "duration": 6,
    "start_time": "2023-06-01T21:43:59.576Z"
   },
   {
    "duration": 6,
    "start_time": "2023-06-01T21:43:59.584Z"
   },
   {
    "duration": 13,
    "start_time": "2023-06-01T21:43:59.592Z"
   },
   {
    "duration": 8,
    "start_time": "2023-06-01T21:43:59.606Z"
   },
   {
    "duration": 13,
    "start_time": "2023-06-01T21:43:59.615Z"
   },
   {
    "duration": 3,
    "start_time": "2023-06-01T21:43:59.630Z"
   },
   {
    "duration": 41,
    "start_time": "2023-06-01T21:43:59.636Z"
   },
   {
    "duration": 8,
    "start_time": "2023-06-01T21:43:59.679Z"
   },
   {
    "duration": 6,
    "start_time": "2023-06-01T21:43:59.688Z"
   },
   {
    "duration": 9,
    "start_time": "2023-06-01T21:43:59.695Z"
   },
   {
    "duration": 13,
    "start_time": "2023-06-01T21:43:59.706Z"
   },
   {
    "duration": 66,
    "start_time": "2023-06-01T21:43:59.721Z"
   },
   {
    "duration": 96,
    "start_time": "2023-06-01T21:43:59.790Z"
   },
   {
    "duration": 102,
    "start_time": "2023-06-01T21:43:59.889Z"
   },
   {
    "duration": 1077,
    "start_time": "2023-06-04T19:20:42.836Z"
   },
   {
    "duration": 86,
    "start_time": "2023-06-04T19:20:43.915Z"
   },
   {
    "duration": 15,
    "start_time": "2023-06-04T19:20:44.003Z"
   },
   {
    "duration": 13,
    "start_time": "2023-06-04T19:20:44.019Z"
   },
   {
    "duration": 8,
    "start_time": "2023-06-04T19:20:44.034Z"
   },
   {
    "duration": 9,
    "start_time": "2023-06-04T19:20:44.044Z"
   },
   {
    "duration": 25,
    "start_time": "2023-06-04T19:20:44.054Z"
   },
   {
    "duration": 5,
    "start_time": "2023-06-04T19:20:44.082Z"
   },
   {
    "duration": 12,
    "start_time": "2023-06-04T19:20:44.088Z"
   },
   {
    "duration": 27,
    "start_time": "2023-06-04T19:20:44.103Z"
   },
   {
    "duration": 7,
    "start_time": "2023-06-04T19:20:44.132Z"
   },
   {
    "duration": 8,
    "start_time": "2023-06-04T19:20:44.141Z"
   },
   {
    "duration": 7,
    "start_time": "2023-06-04T19:20:44.151Z"
   },
   {
    "duration": 20,
    "start_time": "2023-06-04T19:20:44.159Z"
   },
   {
    "duration": 7,
    "start_time": "2023-06-04T19:20:44.181Z"
   },
   {
    "duration": 20,
    "start_time": "2023-06-04T19:20:44.193Z"
   },
   {
    "duration": 68,
    "start_time": "2023-06-04T19:20:44.215Z"
   },
   {
    "duration": 102,
    "start_time": "2023-06-04T19:20:44.286Z"
   },
   {
    "duration": 97,
    "start_time": "2023-06-04T19:20:44.391Z"
   },
   {
    "duration": 1098,
    "start_time": "2023-06-06T06:11:35.790Z"
   },
   {
    "duration": 72,
    "start_time": "2023-06-06T06:11:36.890Z"
   },
   {
    "duration": 78,
    "start_time": "2023-06-06T06:11:36.963Z"
   },
   {
    "duration": 30,
    "start_time": "2023-06-06T06:11:37.043Z"
   },
   {
    "duration": 123,
    "start_time": "2023-06-06T06:11:37.075Z"
   },
   {
    "duration": 126,
    "start_time": "2023-06-06T06:11:37.200Z"
   },
   {
    "duration": 96,
    "start_time": "2023-06-06T06:11:37.327Z"
   },
   {
    "duration": 30,
    "start_time": "2023-06-06T06:11:37.424Z"
   },
   {
    "duration": 24,
    "start_time": "2023-06-06T06:11:37.456Z"
   },
   {
    "duration": 18,
    "start_time": "2023-06-06T06:11:37.482Z"
   },
   {
    "duration": 9,
    "start_time": "2023-06-06T06:11:37.501Z"
   },
   {
    "duration": 25,
    "start_time": "2023-06-06T06:11:37.511Z"
   },
   {
    "duration": 22,
    "start_time": "2023-06-06T06:11:37.537Z"
   },
   {
    "duration": 12,
    "start_time": "2023-06-06T06:11:37.561Z"
   },
   {
    "duration": 37,
    "start_time": "2023-06-06T06:11:37.574Z"
   },
   {
    "duration": 26,
    "start_time": "2023-06-06T06:11:37.613Z"
   },
   {
    "duration": 84,
    "start_time": "2023-06-06T06:11:37.641Z"
   },
   {
    "duration": 105,
    "start_time": "2023-06-06T06:11:37.728Z"
   },
   {
    "duration": 100,
    "start_time": "2023-06-06T06:11:37.836Z"
   },
   {
    "duration": 1277,
    "start_time": "2023-11-05T08:56:24.185Z"
   },
   {
    "duration": 98,
    "start_time": "2023-11-05T08:56:25.464Z"
   },
   {
    "duration": 15,
    "start_time": "2023-11-05T08:56:25.564Z"
   },
   {
    "duration": 18,
    "start_time": "2023-11-05T08:56:25.581Z"
   },
   {
    "duration": 17,
    "start_time": "2023-11-05T08:56:25.601Z"
   },
   {
    "duration": 6,
    "start_time": "2023-11-05T08:56:25.619Z"
   },
   {
    "duration": 19,
    "start_time": "2023-11-05T08:56:25.627Z"
   },
   {
    "duration": 16,
    "start_time": "2023-11-05T08:56:25.647Z"
   },
   {
    "duration": 10,
    "start_time": "2023-11-05T08:56:25.664Z"
   },
   {
    "duration": 13,
    "start_time": "2023-11-05T08:56:25.676Z"
   },
   {
    "duration": 23,
    "start_time": "2023-11-05T08:56:25.691Z"
   },
   {
    "duration": 3,
    "start_time": "2023-11-05T08:56:25.717Z"
   },
   {
    "duration": 7,
    "start_time": "2023-11-05T08:56:25.722Z"
   },
   {
    "duration": 8,
    "start_time": "2023-11-05T08:56:25.731Z"
   },
   {
    "duration": 5,
    "start_time": "2023-11-05T08:56:25.741Z"
   },
   {
    "duration": 6,
    "start_time": "2023-11-05T08:56:25.748Z"
   },
   {
    "duration": 55,
    "start_time": "2023-11-05T08:56:25.756Z"
   },
   {
    "duration": 90,
    "start_time": "2023-11-05T08:56:25.817Z"
   },
   {
    "duration": 101,
    "start_time": "2023-11-05T08:56:25.910Z"
   }
  ],
  "kernelspec": {
   "display_name": "Python 3 (ipykernel)",
   "language": "python",
   "name": "python3"
  },
  "language_info": {
   "codemirror_mode": {
    "name": "ipython",
    "version": 3
   },
   "file_extension": ".py",
   "mimetype": "text/x-python",
   "name": "python",
   "nbconvert_exporter": "python",
   "pygments_lexer": "ipython3",
   "version": "3.9.13"
  },
  "toc": {
   "base_numbering": 1,
   "nav_menu": {},
   "number_sections": true,
   "sideBar": true,
   "skip_h1_title": true,
   "title_cell": "Содержание",
   "title_sidebar": "Contents",
   "toc_cell": true,
   "toc_position": {},
   "toc_section_display": true,
   "toc_window_display": true
  }
 },
 "nbformat": 4,
 "nbformat_minor": 2
}
